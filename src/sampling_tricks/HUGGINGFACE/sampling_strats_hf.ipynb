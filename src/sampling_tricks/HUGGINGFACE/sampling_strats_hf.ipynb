{
 "cells": [
  {
   "cell_type": "markdown",
   "metadata": {},
   "source": [
    "https://huggingface.co/docs/transformers/main/en/generation_strategies"
   ]
  },
  {
   "cell_type": "code",
   "execution_count": null,
   "metadata": {},
   "outputs": [],
   "source": []
  },
  {
   "cell_type": "markdown",
   "metadata": {},
   "source": [
    "Overriding the sample method\n",
    "You can subclass the model class and override the sample method to implement a custom sampling strategy. For example:"
   ]
  },
  {
   "cell_type": "code",
   "execution_count": null,
   "metadata": {},
   "outputs": [],
   "source": [
    "class CustomModel(AutoModelForCausalLM):\n",
    "    def sample(self, logits, **kwargs):\n",
    "        # Implement custom sampling logic here\n",
    "        # Return the sampled token ids"
   ]
  },
  {
   "cell_type": "markdown",
   "metadata": {},
   "source": [
    "Using LogitsWarper\n",
    "For more complex sampling strategies, you can create a custom LogitsWarper. This allows you to modify the logits before sampling:"
   ]
  },
  {
   "cell_type": "code",
   "execution_count": null,
   "metadata": {},
   "outputs": [],
   "source": [
    "from transformers import LogitsWarper\n",
    "\n",
    "class CustomLogitsWarper(LogitsWarper):\n",
    "    def __call__(self, input_ids, scores):\n",
    "        # Modify scores here\n",
    "        return modified_scores\n",
    "\n",
    "# Use in generate() call\n",
    "model.generate(..., logits_warper=CustomLogitsWarper())"
   ]
  },
  {
   "cell_type": "markdown",
   "metadata": {},
   "source": [
    "Customizing generate() parameters\n",
    "Many sampling strategies can be implemented by customizing the parameters passed to generate()"
   ]
  },
  {
   "cell_type": "code",
   "execution_count": null,
   "metadata": {},
   "outputs": [],
   "source": [
    "# Multinomial sampling\n",
    "outputs = model.generate(**inputs, do_sample=True, num_beams=1)\n",
    "\n",
    "# Top-k sampling \n",
    "outputs = model.generate(**inputs, do_sample=True, top_k=50)\n",
    "\n",
    "# Top-p (nucleus) sampling\n",
    "outputs = model.generate(**inputs, do_sample=True, top_p=0.95)"
   ]
  },
  {
   "cell_type": "code",
   "execution_count": null,
   "metadata": {},
   "outputs": [],
   "source": []
  },
  {
   "cell_type": "code",
   "execution_count": null,
   "metadata": {},
   "outputs": [],
   "source": []
  }
 ],
 "metadata": {
  "language_info": {
   "name": "python"
  }
 },
 "nbformat": 4,
 "nbformat_minor": 2
}
